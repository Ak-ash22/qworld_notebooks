{
 "cells": [
  {
   "cell_type": "markdown",
   "metadata": {},
   "source": [
    "<table width=\"100%\"><tr style=\"background-color:white;\">\n",
    "    <td style=\"text-align:left;padding:0px;width:142px'\">\n",
    "        <a href=\"https://qworld.net\" target=\"_blank\">\n",
    "            <img src=\"../images/QWorld.png\"></a></td>\n",
    "    <td width=\"*\">&nbsp;&nbsp;&nbsp;&nbsp;&nbsp;&nbsp;</td>\n",
    "    <!-- ############################################# -->\n",
    "    <td style=\"padding:0px;width:90px;\">\n",
    "        <img align=\"right\" src=\"../images/follow_us.png\" height=\"40px\"></td>\n",
    "    <td style=\"padding:0px;width:40px;\">\n",
    "        <a href=\"https://twitter.com/QWorld19\" target=\"_blank\">\n",
    "        <img align=\"right\" src=\"../images/Twitter.png\" width=\"40px\"></a> </td>\n",
    "    <td style=\"padding:0px;width:5px;\"></td>\n",
    "    <td style=\"padding:0px;width:40px;\">\n",
    "        <a href=\"https://www.facebook.com/qworld19/\" target=\"_blank\">\n",
    "        <img align=\"right\" src=\"../images/Fb.png\"></a></td>\n",
    "    <td style=\"padding:0px;width:5px;\"></td>\n",
    "    <td style=\"padding:0px;width:40px;\">\n",
    "        <a href=\"https://www.linkedin.com/company/qworld19\" target=\"_blank\">\n",
    "        <img align=\"right\" src=\"../images/LinkedIn.png\"></a></td>\n",
    "    <td style=\"padding:0px;width:5px;\"></td>\n",
    "    <td style=\"padding:0px;width:40px;\">\n",
    "        <a href=\"https://www.youtube.com/qworld19\" target=\"_blank\">\n",
    "        <img align=\"right\" src=\"../images/YT.png\"></a></td>\n",
    "    <!-- ############################################# -->\n",
    "    <td style=\"padding:0px;width:60px;\">\n",
    "        <img align=\"right\" src=\"../images/join.png\" height=\"40px\"></td>\n",
    "    <td style=\"padding:0px;width:40px;\">\n",
    "        <a href=\"https://discord.gg/akCvr7U87g\"\n",
    "           target=\"_blank\">\n",
    "        <img align=\"right\" src=\"../images/Discord.png\"></a></td>\n",
    "    <!-- ############################################# -->\n",
    "    <td style=\"padding:0px;width:72px;\">\n",
    "        <img align=\"right\" src=\"../images/w3.png\" height=\"40px\"></td>\n",
    "    <td style=\"padding:0px;width:40px;\">\n",
    "        <a href=\"https://qworld.net\" target=\"_blank\">\n",
    "        <img align=\"right\" src=\"../images/www.png\"></a></td>\n",
    "</tr></table>\n",
    "\n",
    "<table width = \"100%\">\n",
    "  <tr style=\"background-color:white;\">\n",
    "    <td style=\"text-align:right;vertical-align:bottom;font-size:12px;\"> \n",
    "        Prepared by Anastasija Trizna (QPoland, QLatvia) & <a href=\"https://gitlab.com/sabahuddin.ahmad\" target=\"_blank\"> Sabah Ud Din Ahmad</a> (QPakistan)</td>\n",
    "    </tr>\n",
    "    <tr><td align=\"right\" style=\"color:#bbbbbb;background-color:#ffffff;font-size:11px;font-style:italic;\">\n",
    "        This cell contains some macros. If there is a problem with displaying mathematical formulas, please run this cell to load these macros.\n",
    "    </td></tr>\n",
    " </table>\n",
    " \n",
    "$ \\newcommand{\\bra}[1]{\\langle #1|} $\n",
    "$ \\newcommand{\\ket}[1]{|#1\\rangle} $\n",
    "$ \\newcommand{\\braket}[2]{\\langle #1|#2\\rangle} $\n",
    "$ \\newcommand{\\dot}[2]{ #1 \\cdot #2} $\n",
    "$ \\newcommand{\\biginner}[2]{\\left\\langle #1,#2\\right\\rangle} $\n",
    "$ \\newcommand{\\mymatrix}[2]{\\left( \\begin{array}{#1} #2\\end{array} \\right)} $\n",
    "$ \\newcommand{\\myvector}[1]{\\mymatrix{c}{#1}} $\n",
    "$ \\newcommand{\\myrvector}[1]{\\mymatrix{r}{#1}} $\n",
    "$ \\newcommand{\\mypar}[1]{\\left( #1 \\right)} $\n",
    "$ \\newcommand{\\mybigpar}[1]{ \\Big( #1 \\Big)} $\n",
    "$ \\newcommand{\\sqrttwo}{\\frac{1}{\\sqrt{2}}} $\n",
    "$ \\newcommand{\\dsqrttwo}{\\dfrac{1}{\\sqrt{2}}} $\n",
    "$ \\newcommand{\\onehalf}{\\frac{1}{2}} $\n",
    "$ \\newcommand{\\donehalf}{\\dfrac{1}{2}} $\n",
    "$ \\newcommand{\\hadamard}{ \\mymatrix{rr}{ \\sqrttwo & \\sqrttwo \\\\ \\sqrttwo & -\\sqrttwo }} $\n",
    "$ \\newcommand{\\vzero}{\\myvector{1\\\\0}} $\n",
    "$ \\newcommand{\\vone}{\\myvector{0\\\\1}} $\n",
    "$ \\newcommand{\\vhadamardzero}{\\myvector{ \\sqrttwo \\\\  \\sqrttwo } } $\n",
    "$ \\newcommand{\\vhadamardone}{ \\myrvector{ \\sqrttwo \\\\ -\\sqrttwo } } $\n",
    "$ \\newcommand{\\myarray}[2]{ \\begin{array}{#1}#2\\end{array}} $\n",
    "$ \\newcommand{\\X}{ \\mymatrix{cc}{0 & 1 \\\\ 1 & 0}  } $\n",
    "$ \\newcommand{\\Z}{ \\mymatrix{rr}{1 & 0 \\\\ 0 & -1}  } $\n",
    "$ \\newcommand{\\Htwo}{ \\mymatrix{rrrr}{ \\frac{1}{2} & \\frac{1}{2} & \\frac{1}{2} & \\frac{1}{2} \\\\ \\frac{1}{2} & -\\frac{1}{2} & \\frac{1}{2} & -\\frac{1}{2} \\\\ \\frac{1}{2} & \\frac{1}{2} & -\\frac{1}{2} & -\\frac{1}{2} \\\\ \\frac{1}{2} & -\\frac{1}{2} & -\\frac{1}{2} & \\frac{1}{2} } } $\n",
    "$ \\newcommand{\\CNOT}{ \\mymatrix{cccc}{1 & 0 & 0 & 0 \\\\ 0 & 1 & 0 & 0 \\\\ 0 & 0 & 0 & 1 \\\\ 0 & 0 & 1 & 0} } $\n",
    "$ \\newcommand{\\norm}[1]{ \\left\\lVert #1 \\right\\rVert } $\n",
    "\n",
    " ---"
   ]
  },
  {
   "cell_type": "markdown",
   "metadata": {},
   "source": [
    "<h2>Privacy Amplification</h2>\n",
    "\n",
    "The final step is called <b>privacy amplification</b>.\n",
    "\n",
    "But before proceeding to that, let's learn about Extractors & Hashes.\n",
    "\n",
    "What if Espian gained some information about the key that Asja and Balvis generated? So, now Asja and Balvis don't want to use this key directly to encrypt their secret message, but want to extract randomness from their pre-shared key $x$.\n",
    "\n",
    "If the eavesdropper Espian is passive i.e. she is only able to observe the communication but may not alter the messages exchanged, then there is a direct solution based on the use of <b>randomness extractor</b>.\n",
    "\n",
    "The basic idea is that Asja can select uniform seed $y$ for the extractor and send it to Balvis. Both of them will compute the key $k=Ext(x,y)$, which is close to be uniformally random and independent of $y$ (due to the strong extractor property). The use of a quantum-proof extractor suffices to protect against adversaries holding quantum-side information about their key."
   ]
  },
  {
   "cell_type": "markdown",
   "metadata": {},
   "source": [
    "<div class=\"alert alert-block alert-warning\">\n",
    "    <h4>Example 1: Von Neumann Extractor</h4>\n",
    "    <br>\n",
    "    <div class=\"panel panel-block panel-warning\">\n",
    "         Von Neumann extractor operates on a Bernoulli bit sequence - a sequence where every bit is independent, and $1$ and $0$ occur with probability $p$ and $1 − p$, respectively. \n",
    "        \n",
    "If $p = \\frac{1}{2}$, the sequence is uniform.\n",
    "\n",
    "<td style=\"background-color:#ffffff;\"><img src=\"../images/distr.jpg\" width=\"40%\" align=\"middle\"></td> \n",
    "\n",
    "Extractor takes two bit strings $x$ and $y$ and implements the following approach:\n",
    "\n",
    "1. Read two incomming bits {$x;y$}\n",
    "2. If 00 or 11 was read, go back to step 1.\n",
    "3. If 01 was read, return 0.\n",
    "4. if 10 was read, return 1.\n",
    "\n",
    "If there was an adversary who has some partial knowledge about $x$, he or she will have no knowledge about the extracted value.\n",
    "    </div>\n",
    "</div>"
   ]
  },
  {
   "cell_type": "markdown",
   "metadata": {},
   "source": [
    "<h3>Strong Extractor Property</h3>  \n",
    "\n",
    "The extractor is called <b>strong</b> if the following property holds:\n",
    "\n",
    "<div class=\"alert alert-block alert-info\">\n",
    "    Even if the seed is made public, the extracted randomness is still close to the uniform distribution. This enables to <i>reuse</i> the seed and guarantees the safety of the extractor when used in cryptography. \n",
    "</div>\n",
    "\n",
    "“Almost” uniform randomness is sufficient for most applications. It is called **$ε$-uniform** if it is $ε$-close to the uniform distribution.\n",
    "\n",
    "\n",
    "<td style=\"background-color:#ffffff;\"><img src=\"../images/eps-distr.jpg\" width=\"20%\" align=\"middle\"></td> "
   ]
  },
  {
   "cell_type": "markdown",
   "metadata": {},
   "source": [
    "<h3>Hashing-based extractor</h3>\n",
    "\n",
    "As part of privacy amplification stage, we need a function that will take as input our uniform key distributed during the QKD process (partially known by Espian) and ε-uniform extractor seed (public) and will output a uniform independent key (secret).\n",
    "\n",
    "This can be achieved by using <b>universal hash functions</b>.\n",
    "\n",
    "<h4>Universal Hash Functions</h4>\n",
    "\n",
    "From classical cryptography, hash is a one-way function $H()$ that operates on an arbitrary-length message $M$ and returns a fixed-length hash value $h$. \n",
    "$$H(M) =h$$\n",
    "Many functions can take an arbitrary-length input and return an output of fixed length. But, one-way hash functions have additional characteristics that make them one-way:<ul>\n",
    "    <li>Given $M$, it is easy to compute $h$.\n",
    "    <li>Given $h$, it is hard to compute $M$ such that $H(M)=h$.\n",
    "    <li>Given $M$, it is hard to find another message, $M'$, such that $H(M)=H(M')$</ul>\n",
    "\n",
    "The importance of one-way hash functions is to provide a unique \"fingerprint\" of $M$.\n",
    "Hash functions are very useful to quickly locate a data record, for example, to store user passwords. "
   ]
  },
  {
   "cell_type": "code",
   "execution_count": 1,
   "metadata": {},
   "outputs": [
    {
     "name": "stdout",
     "output_type": "stream",
     "text": [
      "The available algorithms are : {'sha3_384', 'sha3_256', 'md5', 'sha224', 'blake2b', 'blake2s', 'sha1', 'sha3_224', 'shake_256', 'sha384', 'shake_128', 'sha256', 'sha3_512', 'sha512'}\n"
     ]
    }
   ],
   "source": [
    "import hashlib #importing hash library\n",
    "  \n",
    "# prints all available algorithms \n",
    "print (\"The available algorithms are : \", end =\"\") \n",
    "print (hashlib.algorithms_guaranteed) "
   ]
  },
  {
   "cell_type": "markdown",
   "metadata": {},
   "source": [
    "<div class=\"alert alert-block alert-warning\">\n",
    "    <h4>Example 2: Secure Hash Algorithms (SHA) </h4>\n",
    "</div>"
   ]
  },
  {
   "cell_type": "code",
   "execution_count": 2,
   "metadata": {},
   "outputs": [
    {
     "name": "stdout",
     "output_type": "stream",
     "text": [
      "SHA256 is: d3c2845cca71f1a1bbfa2f86e33a6d3e55d338f0128678537df870fb57c617aa\n"
     ]
    }
   ],
   "source": [
    "import hashlib \n",
    "\n",
    "message = \"QWorldAssociation\" # initializing string to encrypt\n",
    "result = hashlib.sha256(message.encode()) # encoding using sha256\n",
    "\n",
    "print(\"SHA256 is:\", result.hexdigest()) # printing result in hexadecimal"
   ]
  },
  {
   "cell_type": "markdown",
   "metadata": {},
   "source": [
    "<h4>Salting Hashes</h4>\n",
    "\n",
    "Another property of hashes is that given the same input, they always give the same output. This is an issue since if two users have the same hash, they will have the same information string which can be guessed easily.\n",
    "As a solution, we add random data (<b>salt</b>) to the input of a hash function to guarantee a unique output, even if the initial input was the same. \n",
    "* Prepending Salt \n",
    "            Input: QWorldAssociation\n",
    "            Salt: Community\n",
    "            Salted Input: CommunityQWorldAssociation\n",
    "\n",
    "\n",
    "* Appending Salt\n",
    "            Input: QWorldAssociation\n",
    "            Salt: Community\n",
    "            Salted Input: QWorldAssociationCommunity"
   ]
  },
  {
   "cell_type": "markdown",
   "metadata": {},
   "source": [
    "<div class=\"alert alert-block alert-warning\">\n",
    "    <h4>Example 3: Salting Hash</h4>\n",
    "Verify that changing salt (even few letters) will entirely change the hash output.\n",
    "</div>"
   ]
  },
  {
   "cell_type": "code",
   "execution_count": 3,
   "metadata": {},
   "outputs": [
    {
     "name": "stdout",
     "output_type": "stream",
     "text": [
      "First string SHA256 is: 6c914e86ac941426aa1ebfba73cb9b6fd8efa3dfe15d57c9c7688cfddcc63e88\n",
      "Second string SHA256 is: a4ae280930904b1a61165470e281964e67100b5f40aa5e50f822a41ec309eb79\n"
     ]
    }
   ],
   "source": [
    "import hashlib \n",
    "\n",
    "def salting_hash(str, salt):\n",
    "    input=str+salt\n",
    "    result=hashlib.sha256(input.encode())\n",
    "    return result.hexdigest()\n",
    "\n",
    "a = \"QWorldAssociation\" # initializing first string to encrypt\n",
    "b = \"Community\" #initializing salt\n",
    "\n",
    "c = \"QWorldAssociation\" # initializing first string to encrypt\n",
    "d = \"C0mmun1ty\" #initializing salt (two different characters)\n",
    "\n",
    "print(\"First string SHA256 is:\", salting_hash(a,b))\n",
    "print(\"Second string SHA256 is:\", salting_hash(c,d))"
   ]
  },
  {
   "cell_type": "markdown",
   "metadata": {},
   "source": [
    "<h3>2-universal hash functions</h3>\n",
    "\n",
    "A family of hash functions is said to be <b>k-universal</b> if selecting a function at random from the family guarantees that the hash codes of any designated $k$ keys are independent random variables.\n",
    "\n",
    "Universal hash functions are good extractors and as a consequence, confirms the security in privacy amplification.\n",
    "\n",
    "<b>2-universal hash functions</b> can be used to build quantum-proven randomness extractor. \n",
    "\n",
    "Randomness extractor (based on 2-universal hash functions) can be described as a system that takes a string (<b>QKD key</b>) and salt (<b>generator seed</b>), decides between 2 hash functions and encrypts using chosen function.\n",
    "\n",
    "**Note:** Salt (seed) length should be equal to the string (QKD key) size. \n",
    "\n",
    "Now we have all ingredients to program **Privacy Amplification**!\n",
    "\n",
    "**Summary of Privacy Amplification**\n",
    "<ul>\n",
    "    <li>Asja generates seed (or salt) - random bit sequence - with length same as its final key and send it to Balvis.\n",
    "    <li>Asja and Balvis generate their final key.\n",
    "</ul>\n",
    "\n",
    "<div class=\"alert alert-block alert-warning\">\n",
    "    <h4>Example 4: Privacy Amplification with Randomness Extractor</h4>\n",
    "    <br>\n",
    "    <div class=\"panel panel-block panel-warning\">\n",
    "         Our 2-universal randomness extractor will be appending salt and use SHA256 and SHA3 256 functions.\n",
    "<ul>\n",
    "    <li>If first bit of final key is $0$, it will encrypt using SHA 256.\n",
    "    <li>If it is $1$, then SHA3 256 will be used.\n",
    "</ul>\n",
    "        \n",
    "**Note:** `hashlib` functions work with strings, so you will need to convert your lists to strings.\n",
    "    </div>\n",
    "</div>"
   ]
  },
  {
   "cell_type": "markdown",
   "metadata": {},
   "source": [
    "Instead of running the complete code, let's suppose our strings for this example. \n"
   ]
  },
  {
   "cell_type": "code",
   "execution_count": 5,
   "metadata": {},
   "outputs": [],
   "source": [
    "#You can use key values from previous notebook too for practice!\n",
    "remain_key_asja = [0, 1, 1, 0, 0]\n",
    "remain_key_balvis = [0, 1, 1, 0, 0]"
   ]
  },
  {
   "cell_type": "code",
   "execution_count": 6,
   "metadata": {},
   "outputs": [
    {
     "name": "stdout",
     "output_type": "stream",
     "text": [
      "Encoded using SHA256: c7d47f34b9e7fe8ffa47ed2a1e638ff5a9e2ad7f8f89274d6403cf344379dc3f\n"
     ]
    },
    {
     "data": {
      "text/plain": [
       "'1100011111010100011111110011010010111001111001111111111010001111111110100100011111101101001010100001111001100011100011111111010110101001111000101010110101111111100011111000100100100111010011010110010000000011110011110011010001000011011110011101110000111111'"
      ]
     },
     "execution_count": 6,
     "metadata": {},
     "output_type": "execute_result"
    }
   ],
   "source": [
    "from random import randrange\n",
    "import hashlib \n",
    "\n",
    "#Generating seed (salt)\n",
    "seed=[]\n",
    "for i in remain_key_asja:\n",
    "    a=randrange(2)\n",
    "    seed.append(a)\n",
    "\n",
    "#Adding seeds to the keys\n",
    "remain_key_asja.append(seed)\n",
    "remain_key_balvis.append(seed)\n",
    "\n",
    "#Converting lists to strings\n",
    "str_key_asja = ' '.join([str(elem) for elem in remain_key_asja])\n",
    "str_key_balvis = ' '.join([str(elem) for elem in remain_key_balvis])\n",
    "\n",
    "#checking first bit to decide hash function to use\n",
    "if remain_key_asja[0]==0:\n",
    "    result=hashlib.sha256(str_key_asja.encode())\n",
    "    print(\"Encoded using SHA256:\", result.hexdigest())\n",
    "else:\n",
    "    result=hashlib.sha3_256(str_key_asja.encode())\n",
    "    print(\"Encoded using SHA3 256:\", result.hexdigest())\n",
    "bin(int(result.hexdigest(), 16))[2:]"
   ]
  },
  {
   "cell_type": "markdown",
   "metadata": {},
   "source": [
    "<font style=\"color:darkorange;font-weight:bold;\"> <h2>Task 1</h2> </font>\n",
    "\n",
    "Run the complete program (including sifting, QBER and privacy amplification) for 24 bits."
   ]
  },
  {
   "cell_type": "code",
   "execution_count": 11,
   "metadata": {},
   "outputs": [],
   "source": [
    "def SendState(qc1, qc2, qc1_name):\n",
    "    ''' This function takes the output of a circuit qc1 (made up only of x and \n",
    "        h gates and initializes another circuit qc2 with the same state\n",
    "    ''' \n",
    "    \n",
    "    # Quantum state is retrieved from qasm code of qc1\n",
    "    qs = qc1.qasm().split(sep=';')[4:-1]\n",
    "\n",
    "    # Process the code to get the instructions\n",
    "    for index, instruction in enumerate(qs):\n",
    "        qs[index] = instruction.lstrip()\n",
    "\n",
    "    # Parse the instructions and apply to new circuit\n",
    "    for instruction in qs:\n",
    "        if instruction[0] == 'x':\n",
    "            if instruction[5] == '[':\n",
    "                old_qr = int(instruction[6:-1])\n",
    "            else:\n",
    "                old_qr = int(instruction[5:-1])\n",
    "            qc2.x(qreg[old_qr])\n",
    "        elif instruction[0] == 'h':\n",
    "            if instruction[5] == '[':\n",
    "                old_qr = int(instruction[6:-1])\n",
    "            else:\n",
    "                old_qr = int(instruction[5:-1])\n",
    "            qc2.h(qreg[old_qr])\n",
    "        elif instruction[0] == 'm': # exclude measuring:\n",
    "            pass\n",
    "        else:\n",
    "            raise Exception('Unable to parse instruction')\n",
    "\n",
    "def print_outcomes_in_reserve(counts): # takes a dictionary variable\n",
    "    for outcome in counts: # for each key-value in dictionary\n",
    "        reverse_outcome = ''\n",
    "        for i in outcome: # each string can be considered as a list of characters\n",
    "            reverse_outcome = i + reverse_outcome # each new symbol comes before the old symbol(s)\n",
    "    return reverse_outcome"
   ]
  },
  {
   "cell_type": "code",
   "execution_count": 12,
   "metadata": {},
   "outputs": [
    {
     "name": "stdout",
     "output_type": "stream",
     "text": [
      "Alice Basis: ['Z', 'X', 'Z', 'Z', 'X', 'Z', 'X', 'Z', 'Z', 'Z', 'Z', 'Z', 'X', 'X', 'X', 'X', 'X', 'Z', 'Z', 'X', 'X', 'Z', 'Z', 'Z']\n",
      "Alice sent: [0, 1, 0, 1, 1, 0, 1, 0, 1, 0, 1, 1, 1, 1, 1, 0, 1, 0, 0, 0, 0, 0, 0, 0]\n",
      "Bob Basis: ['Z', 'Z', 'Z', 'Z', 'Z', 'Z', 'Z', 'Z', 'H', 'Z', 'Z', 'H', 'H', 'Z', 'H', 'Z', 'H', 'H', 'H', 'H', 'H', 'H', 'H', 'H']\n",
      "Bob recieved: [0, 0, 0, 1, 0, 0, 1, 0, 1, 0, 1, 1, 1, 1, 1, 1, 1, 1, 1, 0, 0, 0, 1, 0]\n"
     ]
    }
   ],
   "source": [
    "### YOUR CODE HERE ###\n",
    "import qiskit\n",
    "from qiskit import QuantumRegister, ClassicalRegister, QuantumCircuit, Aer, execute\n",
    "from random import randrange\n",
    "n = 24\n",
    "send = []\n",
    "alice_basis = []\n",
    "bob_basis = []\n",
    "for i in range(n):\n",
    "    send.append(randrange(2))\n",
    "\n",
    "qreg = QuantumRegister(n)\n",
    "creg = ClassicalRegister(n)\n",
    "alice = QuantumCircuit(qreg,creg,name='Alice')\n",
    "\n",
    "for i in range(n):\n",
    "    if send[i]==1:\n",
    "        alice.x(i)\n",
    "for i in range(n):\n",
    "    r = randrange(2)\n",
    "    if r==0:\n",
    "        alice_basis.append('Z')\n",
    "    else:\n",
    "        alice.h(i)\n",
    "        alice_basis.append('X')\n",
    "\n",
    "bob = QuantumCircuit(qreg,creg,name='Bob')\n",
    "SendState(alice,bob,'Alice')\n",
    "\n",
    "for i in range(n):\n",
    "    p = randrange(2)\n",
    "    if p==0:\n",
    "        bob_basis.append('Z')\n",
    "    else:\n",
    "        bob.h(i)\n",
    "        bob_basis.append('H')\n",
    "bob.measure(qreg,creg)\n",
    "job = execute(bob,Aer.get_backend('qasm_simulator'),shots=1)\n",
    "counts = job.result().get_counts()\n",
    "counts = print_outcomes_in_reserve(counts)\n",
    "received = list(map(int, counts))\n",
    "\n",
    "print('Alice Basis:',alice_basis)\n",
    "print('Alice sent:',send)\n",
    "print('Bob Basis:',bob_basis)\n",
    "print('Bob recieved:',received)\n"
   ]
  },
  {
   "cell_type": "code",
   "execution_count": 53,
   "metadata": {},
   "outputs": [
    {
     "name": "stdout",
     "output_type": "stream",
     "text": [
      "Alice Key: [0, 0, 1, 0, 0, 0, 1]\n",
      "Bob Key: [0, 0, 1, 0, 0, 0, 1]\n"
     ]
    }
   ],
   "source": [
    "#Sifting\n",
    "alice_key = []\n",
    "bob_key = []\n",
    "for i in range(n):\n",
    "    if alice_basis[i]==bob_basis[i]:\n",
    "        alice_key.append(send[i])\n",
    "        bob_key.append(received[i])\n",
    "print('Alice Key:',alice_key)\n",
    "print('Bob Key:',bob_key)"
   ]
  },
  {
   "cell_type": "code",
   "execution_count": 54,
   "metadata": {},
   "outputs": [
    {
     "name": "stdout",
     "output_type": "stream",
     "text": [
      "Alice tested bit index is 4 and tested bit is 0\n",
      "Alice tested bit index is 1 and tested bit is 0\n",
      "QBER value for experiment: 0.0\n",
      "Alice's secret key: [0, 1, 0, 0, 1]\n",
      "Bob's secret key: [0, 1, 0, 0, 1]\n"
     ]
    }
   ],
   "source": [
    "#QBER\n",
    "rounds = len(alice_key)//3\n",
    "error = 0\n",
    "for i in range(rounds):\n",
    "    bit_index = randrange(len(alice_key))\n",
    "    tested_bit = alice_key[bit_index]\n",
    "    print('Alice tested bit index is',bit_index,'and tested bit is',tested_bit)\n",
    "    if alice_key[bit_index]!=bob_key[bit_index]:\n",
    "        error = error+1\n",
    "    del alice_key[bit_index]\n",
    "    del bob_key[bit_index]\n",
    "qber = error/rounds\n",
    "print('QBER value for experiment:',qber)\n",
    "print(\"Alice's secret key:\",alice_key)\n",
    "print(\"Bob's secret key:\",bob_key)"
   ]
  },
  {
   "cell_type": "code",
   "execution_count": 55,
   "metadata": {},
   "outputs": [
    {
     "name": "stdout",
     "output_type": "stream",
     "text": [
      "0 1 0 0 1 1 1 0 1 1\n",
      "Encoded key in SHA256 : 8f12759bb6491f35dfafc8af3ef8a30542ffea3e9f83d3eacf74f18768bd656b\n"
     ]
    },
    {
     "data": {
      "text/plain": [
       "'1000111100010010011101011001101110110110010010010001111100110101110111111010111111001000101011110011111011111000101000110000010101000010111111111110101000111110100111111000001111010011111010101100111101110100111100011000011101101000101111010110010101101011'"
      ]
     },
     "execution_count": 55,
     "metadata": {},
     "output_type": "execute_result"
    }
   ],
   "source": [
    "import hashlib\n",
    "seed = []\n",
    "for i in range(len(alice_key)):\n",
    "    r = randrange(2)\n",
    "    seed.append(r)\n",
    "    alice_key.append(r)\n",
    "    bob_key.append(r)\n",
    "\n",
    "str_key_alice = ' '.join([str(elem) for elem in alice_key])\n",
    "str_key_bob = ' '.join([str(elem) for elem in bob_key])\n",
    "print(str_key_alice)\n",
    "if alice_key[0]==0:\n",
    "    result = hashlib.sha256(str_key_alice.encode())\n",
    "    print('Encoded key in SHA256 :',result.hexdigest())\n",
    "else:\n",
    "    result = hashlib.sha3_256(str_key_alice.encode())\n",
    "    print('Encoded key in SHA3_256 :',result.hexdigest())\n",
    "bin(int(result.hexdigest(), 16))[2:]   #Converting hexadecimal back to binary"
   ]
  },
  {
   "cell_type": "markdown",
   "metadata": {},
   "source": [
    "[Click here for solution](QC11_Privacy_Amplification_Solutions.ipynb#task1)\n",
    "\n",
    "***"
   ]
  },
  {
   "cell_type": "markdown",
   "metadata": {},
   "source": [
    "Next: [Updating BB84 Protocol](QC12_Updating_BB84_protocol.ipynb)"
   ]
  }
 ],
 "metadata": {
  "kernelspec": {
   "display_name": "Python 3 (ipykernel)",
   "language": "python",
   "name": "python3"
  },
  "language_info": {
   "codemirror_mode": {
    "name": "ipython",
    "version": 3
   },
   "file_extension": ".py",
   "mimetype": "text/x-python",
   "name": "python",
   "nbconvert_exporter": "python",
   "pygments_lexer": "ipython3",
   "version": "3.8.10"
  }
 },
 "nbformat": 4,
 "nbformat_minor": 2
}
