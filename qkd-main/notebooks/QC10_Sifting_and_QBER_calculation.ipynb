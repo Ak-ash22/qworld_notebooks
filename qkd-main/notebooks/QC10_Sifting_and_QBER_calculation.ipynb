{
 "cells": [
  {
   "cell_type": "markdown",
   "metadata": {},
   "source": [
    "<table width=\"100%\"><tr style=\"background-color:white;\">\n",
    "    <td style=\"text-align:left;padding:0px;width:142px'\">\n",
    "        <a href=\"https://qworld.net\" target=\"_blank\">\n",
    "            <img src=\"../images/QWorld.png\"></a></td>\n",
    "    <td width=\"*\">&nbsp;&nbsp;&nbsp;&nbsp;&nbsp;&nbsp;</td>\n",
    "    <!-- ############################################# -->\n",
    "    <td style=\"padding:0px;width:90px;\">\n",
    "        <img align=\"right\" src=\"../images/follow_us.png\" height=\"40px\"></td>\n",
    "    <td style=\"padding:0px;width:40px;\">\n",
    "        <a href=\"https://twitter.com/QWorld19\" target=\"_blank\">\n",
    "        <img align=\"right\" src=\"../images/Twitter.png\" width=\"40px\"></a> </td>\n",
    "    <td style=\"padding:0px;width:5px;\"></td>\n",
    "    <td style=\"padding:0px;width:40px;\">\n",
    "        <a href=\"https://www.facebook.com/qworld19/\" target=\"_blank\">\n",
    "        <img align=\"right\" src=\"../images/Fb.png\"></a></td>\n",
    "    <td style=\"padding:0px;width:5px;\"></td>\n",
    "    <td style=\"padding:0px;width:40px;\">\n",
    "        <a href=\"https://www.linkedin.com/company/qworld19\" target=\"_blank\">\n",
    "        <img align=\"right\" src=\"../images/LinkedIn.png\"></a></td>\n",
    "    <td style=\"padding:0px;width:5px;\"></td>\n",
    "    <td style=\"padding:0px;width:40px;\">\n",
    "        <a href=\"https://www.youtube.com/qworld19\" target=\"_blank\">\n",
    "        <img align=\"right\" src=\"../images/YT.png\"></a></td>\n",
    "    <!-- ############################################# -->\n",
    "    <td style=\"padding:0px;width:60px;\">\n",
    "        <img align=\"right\" src=\"../images/join.png\" height=\"40px\"></td>\n",
    "    <td style=\"padding:0px;width:40px;\">\n",
    "        <a href=\"https://discord.gg/akCvr7U87g\"\n",
    "           target=\"_blank\">\n",
    "        <img align=\"right\" src=\"../images/Discord.png\"></a></td>\n",
    "    <!-- ############################################# -->\n",
    "    <td style=\"padding:0px;width:72px;\">\n",
    "        <img align=\"right\" src=\"../images/w3.png\" height=\"40px\"></td>\n",
    "    <td style=\"padding:0px;width:40px;\">\n",
    "        <a href=\"https://qworld.net\" target=\"_blank\">\n",
    "        <img align=\"right\" src=\"../images/www.png\"></a></td>\n",
    "</tr></table>\n",
    "\n",
    "<table width = \"100%\">\n",
    "  <tr style=\"background-color:white;\">\n",
    "    <td style=\"text-align:right;vertical-align:bottom;font-size:12px;\"> \n",
    "        Prepared by Anastasija Trizna (QPoland, QLatvia) & <a href=\"https://www.linkedin.com/in/sabah-ud-din-ahmad\" target=\"_blank\"> Sabah Ud Din Ahmad</a> (QPakistan)</td>\n",
    "    </tr>\n",
    "    <tr><td align=\"right\" style=\"color:#bbbbbb;background-color:#ffffff;font-size:11px;font-style:italic;\">\n",
    "        This cell contains some macros. If there is a problem with displaying mathematical formulas, please run this cell to load these macros.\n",
    "    </td></tr>\n",
    " </table>\n",
    " \n",
    "$ \\newcommand{\\bra}[1]{\\langle #1|} $\n",
    "$ \\newcommand{\\ket}[1]{|#1\\rangle} $\n",
    "$ \\newcommand{\\braket}[2]{\\langle #1|#2\\rangle} $\n",
    "$ \\newcommand{\\dot}[2]{ #1 \\cdot #2} $\n",
    "$ \\newcommand{\\biginner}[2]{\\left\\langle #1,#2\\right\\rangle} $\n",
    "$ \\newcommand{\\mymatrix}[2]{\\left( \\begin{array}{#1} #2\\end{array} \\right)} $\n",
    "$ \\newcommand{\\myvector}[1]{\\mymatrix{c}{#1}} $\n",
    "$ \\newcommand{\\myrvector}[1]{\\mymatrix{r}{#1}} $\n",
    "$ \\newcommand{\\mypar}[1]{\\left( #1 \\right)} $\n",
    "$ \\newcommand{\\mybigpar}[1]{ \\Big( #1 \\Big)} $\n",
    "$ \\newcommand{\\sqrttwo}{\\frac{1}{\\sqrt{2}}} $\n",
    "$ \\newcommand{\\dsqrttwo}{\\dfrac{1}{\\sqrt{2}}} $\n",
    "$ \\newcommand{\\onehalf}{\\frac{1}{2}} $\n",
    "$ \\newcommand{\\donehalf}{\\dfrac{1}{2}} $\n",
    "$ \\newcommand{\\hadamard}{ \\mymatrix{rr}{ \\sqrttwo & \\sqrttwo \\\\ \\sqrttwo & -\\sqrttwo }} $\n",
    "$ \\newcommand{\\vzero}{\\myvector{1\\\\0}} $\n",
    "$ \\newcommand{\\vone}{\\myvector{0\\\\1}} $\n",
    "$ \\newcommand{\\vhadamardzero}{\\myvector{ \\sqrttwo \\\\  \\sqrttwo } } $\n",
    "$ \\newcommand{\\vhadamardone}{ \\myrvector{ \\sqrttwo \\\\ -\\sqrttwo } } $\n",
    "$ \\newcommand{\\myarray}[2]{ \\begin{array}{#1}#2\\end{array}} $\n",
    "$ \\newcommand{\\X}{ \\mymatrix{cc}{0 & 1 \\\\ 1 & 0}  } $\n",
    "$ \\newcommand{\\Z}{ \\mymatrix{rr}{1 & 0 \\\\ 0 & -1}  } $\n",
    "$ \\newcommand{\\Htwo}{ \\mymatrix{rrrr}{ \\frac{1}{2} & \\frac{1}{2} & \\frac{1}{2} & \\frac{1}{2} \\\\ \\frac{1}{2} & -\\frac{1}{2} & \\frac{1}{2} & -\\frac{1}{2} \\\\ \\frac{1}{2} & \\frac{1}{2} & -\\frac{1}{2} & -\\frac{1}{2} \\\\ \\frac{1}{2} & -\\frac{1}{2} & -\\frac{1}{2} & \\frac{1}{2} } } $\n",
    "$ \\newcommand{\\CNOT}{ \\mymatrix{cccc}{1 & 0 & 0 & 0 \\\\ 0 & 1 & 0 & 0 \\\\ 0 & 0 & 0 & 1 \\\\ 0 & 0 & 1 & 0} } $\n",
    "$ \\newcommand{\\norm}[1]{ \\left\\lVert #1 \\right\\rVert } $\n",
    "\n",
    " ---"
   ]
  },
  {
   "cell_type": "markdown",
   "metadata": {},
   "source": [
    "<h2>Sifting</h2>\n",
    "\n",
    "We can now continue with classical post-processing.\n",
    "\n",
    "Asja and Balvis should determine, by public exchange of messages, the rounds in which their encoding and decoding bases agreed. \n",
    "\n",
    "During this stage, Balvis reveals the number and rounds when he was able to receive a qubit from Asja and Asja shares the basis she used to encode each qubit. \n",
    "\n",
    "Both users discard those rounds where Balvis didn’t receive a qubit and where he chose a measurement basis different from the one Asja used when preparing the states. "
   ]
  },
  {
   "cell_type": "markdown",
   "metadata": {},
   "source": [
    "<h4>Summary of Sifting</h4>\n",
    "\n",
    "<ul>\n",
    "    <li>Asja and Balvis compare the bases that they have used and keep those bits from rounds where bases matched. \n",
    "    <li>Both Asja and Balvis remove those bits from their key string where they used different bases.\n",
    "    <li>Print the keys that Asja and Balvis have after filtering the original strings. \n",
    "</ul>\n",
    "\n",
    "\n",
    "<td style=\"background-color:#ffffff;\"><img src=\"../images/BB84_sifting.png\" width=\"60%\" align=\"middle\"></td>\n",
    "\n",
    "<div class=\"alert alert-block alert-warning\">\n",
    "    <h3>Example 1: Sifting</h3>\n",
    "    We will continue our code from previous notebook and implement sifting for $16$ bits. \n",
    "</div> "
   ]
  },
  {
   "cell_type": "code",
   "execution_count": 4,
   "metadata": {},
   "outputs": [
    {
     "name": "stdout",
     "output_type": "stream",
     "text": [
      "Asja sent: [1, 1, 1, 1, 1, 0, 0, 0, 1, 1, 0, 1, 0, 0, 0, 0]\n",
      "Asja encoding basis: ['X', 'Z', 'X', 'Z', 'X', 'Z', 'Z', 'Z', 'Z', 'Z', 'X', 'Z', 'Z', 'Z', 'X', 'Z']\n",
      "Balvis received: [0, 1, 1, 1, 1, 0, 1, 0, 1, 1, 0, 1, 1, 0, 0, 1]\n",
      "Balvis decoding basis: ['Z', 'X', 'X', 'Z', 'X', 'Z', 'X', 'Z', 'X', 'Z', 'X', 'Z', 'X', 'X', 'X', 'X']\n"
     ]
    }
   ],
   "source": [
    "# import all necessary objects and methods for quantum circuits\n",
    "from qiskit import QuantumRegister, ClassicalRegister, QuantumCircuit, execute, Aer\n",
    "from random import randrange\n",
    "\n",
    "def print_outcomes_in_reserve(counts): # takes a dictionary variable\n",
    "    for outcome in counts: # for each key-value in dictionary\n",
    "        reverse_outcome = ''\n",
    "        for i in outcome: # each string can be considered as a list of characters\n",
    "            reverse_outcome = i + reverse_outcome # each new symbol comes before the old symbol(s)\n",
    "    return reverse_outcome\n",
    "\n",
    "#Source: awards/teach_me_qiskit_2018/cryptography/Cryptography.ipynb\n",
    "def SendState(qc1, qc2, qc1_name):\n",
    "    ''' This function takes the output of a circuit qc1 (made up only of x and \n",
    "        h gates and initializes another circuit qc2 with the same state\n",
    "    ''' \n",
    "    \n",
    "    # Quantum state is retrieved from qasm code of qc1\n",
    "    qs = qc1.qasm().split(sep=';')[4:-1]\n",
    "\n",
    "    # Process the code to get the instructions\n",
    "    for index, instruction in enumerate(qs):\n",
    "        qs[index] = instruction.lstrip()\n",
    "\n",
    "    # Parse the instructions and apply to new circuit\n",
    "    for instruction in qs:\n",
    "        if instruction[0] == 'x':\n",
    "            if instruction[5] == '[':\n",
    "                old_qr = int(instruction[6:-1])\n",
    "            else:\n",
    "                old_qr = int(instruction[5:-1])\n",
    "            qc2.x(qreg[old_qr])\n",
    "        elif instruction[0] == 'h':\n",
    "            if instruction[5] == '[':\n",
    "                old_qr = int(instruction[6:-1])\n",
    "            else:\n",
    "                old_qr = int(instruction[5:-1])\n",
    "            qc2.h(qreg[old_qr])\n",
    "        elif instruction[0] == 'm': # exclude measuring:\n",
    "            pass\n",
    "        else:\n",
    "            raise Exception('Unable to parse instruction')\n",
    "\n",
    "qreg = QuantumRegister(16) # quantum register with 16 qubits\n",
    "creg = ClassicalRegister(16) # classical register with 16 bits\n",
    "\n",
    "# Quantum circuit for Asja state\n",
    "asja = QuantumCircuit(qreg, creg, name='Asja')\n",
    "\n",
    "send=[] #Initial bit string to send\n",
    "asja_basis=[] #Register to save information about encoding basis\n",
    "balvis_basis=[] #Register to save information about decoding basis\n",
    "\n",
    "#Creating random bit string\n",
    "for i in range(16):\n",
    "    bit = randrange(2)\n",
    "    send.append(bit)\n",
    "    \n",
    "#Preparing qubits, apply X gate if bit is equal 1\n",
    "for i, n in enumerate(send):\n",
    "    if n==1:\n",
    "        asja.x(qreg[i]) # apply x-gate\n",
    "\n",
    "#send_str = ''.join(str(e) for e in send)\n",
    "\n",
    "#Encoding\n",
    "for i in range(16):\n",
    "    r=randrange(2) #Asja randomly pick a basis\n",
    "    if r==0: #if bit is 0, then she encodes in Z basis\n",
    "        asja_basis.append('Z')\n",
    "    else: #if bit is 1, then she encodes in X basis\n",
    "        asja.h(qreg[i])\n",
    "        asja_basis.append('X')\n",
    "\n",
    "balvis = QuantumCircuit(qreg, creg, name='Balvis') #Defining Balvis circuit\n",
    "SendState(asja, balvis, 'Asja') #Asja sends states to Balvis\n",
    "\n",
    "#Balvis measures qubits\n",
    "for i in range(16):\n",
    "    r=randrange(2) #Balvis randomly pick a basis\n",
    "    if r==0: #if bit is 0, then measures in Z basis\n",
    "        balvis.measure(qreg[i],creg[i])\n",
    "        balvis_basis.append('Z')\n",
    "    else: #if bit is 1, then measures in X basis\n",
    "        balvis.h(qreg[i])\n",
    "        balvis.measure(qreg[i],creg[i])\n",
    "        balvis_basis.append('X')\n",
    "\n",
    "job = execute(balvis,Aer.get_backend('qasm_simulator'),shots=1) #Note that Balvis only has one shot to measure qubits\n",
    "counts = job.result().get_counts(balvis) # counts is a dictionary object in python\n",
    "counts = print_outcomes_in_reserve(counts)\n",
    "\n",
    "#Saving Balvis received string as a list\n",
    "received = list(map(int, counts))\n",
    "\n",
    "print(\"Asja sent:\", send)\n",
    "print(\"Asja encoding basis:\", asja_basis)\n",
    "print(\"Balvis received:\", received)\n",
    "print(\"Balvis decoding basis:\", balvis_basis)"
   ]
  },
  {
   "cell_type": "markdown",
   "metadata": {},
   "source": [
    "**Following is the additional code for sifting.** "
   ]
  },
  {
   "cell_type": "code",
   "execution_count": 5,
   "metadata": {},
   "outputs": [
    {
     "name": "stdout",
     "output_type": "stream",
     "text": [
      "Asjas key = [1, 1, 1, 0, 0, 1, 0, 1, 0]\n",
      "Balvis key = [1, 1, 1, 0, 0, 1, 0, 1, 0]\n"
     ]
    }
   ],
   "source": [
    "#Sifting\n",
    "asja_key=[] #Asjas register for matching rounds\n",
    "balvis_key=[] #Balvis register for matching rounds\n",
    "for j in range(0,len(asja_basis)): #Going through list of bases \n",
    "    if asja_basis[j] == balvis_basis[j]: #Comparing\n",
    "        asja_key.append(send[j])\n",
    "        balvis_key.append(received[j]) #Keeping key bit if bases matched\n",
    "    else:\n",
    "        pass #Discard round if bases mismatched\n",
    "\n",
    "print(\"Asjas key =\", asja_key)\n",
    "print(\"Balvis key =\", balvis_key)"
   ]
  },
  {
   "cell_type": "markdown",
   "metadata": {},
   "source": [
    "So, we got the key strings for which the same bases was used for encoding and decoding. \n",
    "\n",
    "Let's now learn about Quantum Bit Error Correction."
   ]
  },
  {
   "cell_type": "markdown",
   "metadata": {},
   "source": [
    "<h2>Quantum Bit Error Correction</h2>\n",
    "\n",
    "At this stage, Asja randomly chooses $n$ of the remaining bits to test and tells Balvis which rounds are tested. Asja and Balvis exchange bits, compare and compute **Quantum Bit Error Rate (QBER)**. From the observed QBER, Asja and Balvis estimate the information gained by eavesdropper during the quantum transmission stage. \n",
    "\n",
    "<b>For noise-free BB84 version</b>,\n",
    "\n",
    "> * If **QBER Value $\\neq 0$**, users abort the protocol. \n",
    "> * If threshold is not reached, they will continue with privacy amplification step."
   ]
  },
  {
   "cell_type": "markdown",
   "metadata": {},
   "source": [
    "<h4>Summary of QBER</h4>\n",
    "\n",
    "<ul>\n",
    "    <li>Asja randomly chooses a testing round.\n",
    "    <li>Asja and Balvis compare bit-by-bit $\\frac{1}{3}$ part of their final key.\n",
    "    <li>If their bits do not match - this round is considered as an error.\n",
    "    <li><b>Error Rate</b> is calculated as: $$QBER=\\frac{\\text{error}}{\\text{compared bits or number of rounds}}$$   \n",
    "    <li>All testing bits (one-third of the key) are discarded from their final key strings as the testing bits have been shared in the public classical channel. \n",
    "    <li>Print the updated keys that Asja and Balvis have and the calculated QBER value.\n",
    "</ul>\n",
    "\n",
    "\n",
    "<div class=\"alert alert-block alert-warning\">\n",
    "    <h3>Example 2: QBER Calculation</h3>\n",
    "    We will continue our code from Example 1 and calculate QBER for $16$ bits. \n",
    "</div> \n",
    "\n"
   ]
  },
  {
   "cell_type": "code",
   "execution_count": 6,
   "metadata": {},
   "outputs": [
    {
     "name": "stdout",
     "output_type": "stream",
     "text": [
      "Asja randomly selected bit index = 7 , and its value is =  1\n",
      "Asja randomly selected bit index = 6 , and its value is =  0\n",
      "Asja randomly selected bit index = 2 , and its value is =  1\n",
      "QBER value = 0.0\n",
      "Asja's secret key = [1, 1, 0, 0, 1, 0]\n",
      "Balvis' secret key = [1, 1, 0, 0, 1, 0]\n"
     ]
    }
   ],
   "source": [
    "#QBER\n",
    "rounds = len(asja_key)//3    #To divide without remainder, use //\n",
    "errors=0\n",
    "for i in range(rounds):\n",
    "    bit_index = randrange(len(asja_key)) \n",
    "    tested_bit = asja_key[bit_index]\n",
    "    print (\"Asja randomly selected bit index =\", bit_index, \", and its value is = \", tested_bit)\n",
    "    if asja_key[bit_index]!=balvis_key[bit_index]: #comparing tested rounds\n",
    "        errors=errors+1 #calculating errors\n",
    "    #removing tested bits from key strings\n",
    "    del asja_key[bit_index] #Use del to specify the index of the element you want to delete\n",
    "    del balvis_key[bit_index]\n",
    "QBER=errors/rounds #calculating QBER\n",
    "        \n",
    "print(\"QBER value =\", QBER)\n",
    "print(\"Asja's secret key =\", asja_key)\n",
    "print(\"Balvis' secret key =\", balvis_key)"
   ]
  },
  {
   "cell_type": "markdown",
   "metadata": {},
   "source": [
    "Note the decrease in key length as testing bits have been removed. The testing bits had been shared in the public classical channel. "
   ]
  },
  {
   "cell_type": "markdown",
   "metadata": {},
   "source": [
    "<font style=\"color:darkorange;font-weight:bold;\"> <h2>Task 1</h2> </font>\n",
    "\n",
    "Run this program (both sifting and QBER) for 24 bits."
   ]
  },
  {
   "cell_type": "code",
   "execution_count": 12,
   "metadata": {},
   "outputs": [
    {
     "name": "stdout",
     "output_type": "stream",
     "text": [
      "Alice Basis: ['X', 'Z', 'Z', 'X', 'Z', 'Z', 'Z', 'X', 'Z', 'X', 'X', 'X', 'X', 'Z', 'Z', 'Z', 'Z', 'Z', 'X', 'X', 'X', 'X', 'X', 'X']\n",
      "Alice sent: [1, 1, 1, 1, 1, 0, 1, 0, 0, 1, 1, 1, 1, 0, 1, 0, 0, 0, 1, 1, 0, 0, 0, 0]\n",
      "Bob Basis: ['H', 'Z', 'H', 'H', 'Z', 'Z', 'Z', 'H', 'Z', 'Z', 'H', 'Z', 'H', 'Z', 'Z', 'Z', 'Z', 'H', 'H', 'Z', 'Z', 'H', 'H', 'H']\n",
      "Bob recieved: [1, 1, 0, 1, 1, 0, 1, 0, 0, 1, 1, 1, 1, 0, 1, 0, 0, 1, 1, 1, 1, 0, 0, 0]\n"
     ]
    }
   ],
   "source": [
    "### YOUR CODE HERE ###\n",
    "n = 24\n",
    "send = []\n",
    "alice_basis = []\n",
    "bob_basis = []\n",
    "for i in range(n):\n",
    "    send.append(randrange(2))\n",
    "\n",
    "qreg = QuantumRegister(n)\n",
    "creg = ClassicalRegister(n)\n",
    "alice = QuantumCircuit(qreg,creg,name='Alice')\n",
    "\n",
    "for i in range(n):\n",
    "    if send[i]==1:\n",
    "        alice.x(i)\n",
    "for i in range(n):\n",
    "    r = randrange(2)\n",
    "    if r==0:\n",
    "        alice_basis.append('Z')\n",
    "    else:\n",
    "        alice.h(i)\n",
    "        alice_basis.append('X')\n",
    "\n",
    "bob = QuantumCircuit(qreg,creg,name='Bob')\n",
    "SendState(alice,bob,'Alice')\n",
    "\n",
    "for i in range(n):\n",
    "    p = randrange(2)\n",
    "    if p==0:\n",
    "        bob_basis.append('Z')\n",
    "    else:\n",
    "        bob.h(i)\n",
    "        bob_basis.append('H')\n",
    "bob.measure(qreg,creg)\n",
    "job = execute(bob,Aer.get_backend('qasm_simulator'),shots=1)\n",
    "counts = job.result().get_counts()\n",
    "counts = print_outcomes_in_reserve(counts)\n",
    "received = list(map(int, counts))\n",
    "\n",
    "print('Alice Basis:',alice_basis)\n",
    "print('Alice sent:',send)\n",
    "print('Bob Basis:',bob_basis)\n",
    "print('Bob recieved:',received)"
   ]
  },
  {
   "cell_type": "code",
   "execution_count": 13,
   "metadata": {},
   "outputs": [
    {
     "name": "stdout",
     "output_type": "stream",
     "text": [
      "Alice Key: [1, 1, 0, 1, 0, 0, 1, 0, 0]\n",
      "Bob Key: [1, 1, 0, 1, 0, 0, 1, 0, 0]\n"
     ]
    }
   ],
   "source": [
    "#Sifting\n",
    "alice_key = []\n",
    "bob_key = []\n",
    "for i in range(n):\n",
    "    if alice_basis[i]==bob_basis[i]:\n",
    "        alice_key.append(send[i])\n",
    "        bob_key.append(received[i])\n",
    "print('Alice Key:',alice_key)\n",
    "print('Bob Key:',bob_key)"
   ]
  },
  {
   "cell_type": "code",
   "execution_count": 14,
   "metadata": {},
   "outputs": [
    {
     "name": "stdout",
     "output_type": "stream",
     "text": [
      "Alice tested bit index is 1 and tested bit is 1\n",
      "Alice tested bit index is 7 and tested bit is 0\n",
      "Alice tested bit index is 4 and tested bit is 0\n",
      "QBER value for experiment: 0.0\n",
      "Alice's secret key: [1, 0, 1, 0, 1, 0]\n",
      "Bob's secret key: [1, 0, 1, 0, 1, 0]\n"
     ]
    }
   ],
   "source": [
    "#QBER\n",
    "rounds = len(alice_key)//3\n",
    "error = 0\n",
    "for i in range(rounds):\n",
    "    bit_index = randrange(len(alice_key))\n",
    "    tested_bit = alice_key[bit_index]\n",
    "    print('Alice tested bit index is',bit_index,'and tested bit is',tested_bit)\n",
    "    if alice_key[bit_index]!=bob_key[bit_index]:\n",
    "        error = error+1\n",
    "    del alice_key[bit_index]\n",
    "    del bob_key[bit_index]\n",
    "qber = error/rounds\n",
    "print('QBER value for experiment:',qber)\n",
    "print(\"Alice's secret key:\",alice_key)\n",
    "print(\"Bob's secret key:\",bob_key)"
   ]
  },
  {
   "cell_type": "markdown",
   "metadata": {},
   "source": [
    "[Click here for solution](QC10_Sifting_and_QBER_calculation_Solutions.ipynb#task1)\n",
    "\n",
    "***"
   ]
  },
  {
   "cell_type": "markdown",
   "metadata": {},
   "source": [
    "Next: [Privacy Amplification](QC11_Privacy_Amplification.ipynb)"
   ]
  }
 ],
 "metadata": {
  "kernelspec": {
   "display_name": "Python 3 (ipykernel)",
   "language": "python",
   "name": "python3"
  },
  "language_info": {
   "codemirror_mode": {
    "name": "ipython",
    "version": 3
   },
   "file_extension": ".py",
   "mimetype": "text/x-python",
   "name": "python",
   "nbconvert_exporter": "python",
   "pygments_lexer": "ipython3",
   "version": "3.8.10"
  }
 },
 "nbformat": 4,
 "nbformat_minor": 2
}
